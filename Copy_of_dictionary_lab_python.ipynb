{
  "nbformat": 4,
  "nbformat_minor": 0,
  "metadata": {
    "colab": {
      "name": "Copy of dictionary lab python.ipynb",
      "provenance": [],
      "authorship_tag": "ABX9TyN4Wz3FEwW+7j4Ck7gfiQLF",
      "include_colab_link": true
    },
    "kernelspec": {
      "name": "python3",
      "display_name": "Python 3"
    },
    "language_info": {
      "name": "python"
    }
  },
  "cells": [
    {
      "cell_type": "markdown",
      "metadata": {
        "id": "view-in-github",
        "colab_type": "text"
      },
      "source": [
        "<a href=\"https://colab.research.google.com/github/Kakani2003/Kakani2003/blob/main/Copy_of_dictionary_lab_python.ipynb\" target=\"_parent\"><img src=\"https://colab.research.google.com/assets/colab-badge.svg\" alt=\"Open In Colab\"/></a>"
      ]
    },
    {
      "cell_type": "markdown",
      "source": [
        ""
      ],
      "metadata": {
        "id": "XYv6A2NaqnUv"
      }
    },
    {
      "cell_type": "markdown",
      "source": [
        "EXP 3  DICTIONARY "
      ],
      "metadata": {
        "id": "Bse7_m7Pqrf-"
      }
    },
    {
      "cell_type": "code",
      "source": [
        "people = {1: {'name': 'John', 'age': '27', 'sex': 'Male'}, 2: {'name': 'Marie', 'age': '22', 'sex': 'Female'}}\n"
      ],
      "metadata": {
        "id": "IMhWnqzyq21V"
      },
      "execution_count": null,
      "outputs": []
    },
    {
      "cell_type": "code",
      "source": [
        "people[3]={'name': 'vamsi', 'age': '18', 'sex': 'Male'}\n",
        "people[4]={'name': 'jai', 'age': '12', 'sex': 'Male'}\n",
        "people"
      ],
      "metadata": {
        "colab": {
          "base_uri": "https://localhost:8080/"
        },
        "id": "4SY8KUTdsjHF",
        "outputId": "6d2910b5-7d82-4d2b-da40-4ab9e1681ddc"
      },
      "execution_count": null,
      "outputs": [
        {
          "output_type": "execute_result",
          "data": {
            "text/plain": [
              "{1: {'age': '27', 'name': 'John', 'sex': 'Male'},\n",
              " 2: {'age': '22', 'name': 'Marie', 'sex': 'Female'},\n",
              " 3: {'age': '18', 'name': 'vamsi', 'sex': 'Male'},\n",
              " 4: {'age': '12', 'name': 'jai', 'sex': 'Male'}}"
            ]
          },
          "metadata": {},
          "execution_count": 37
        }
      ]
    },
    {
      "cell_type": "code",
      "source": [
        "people[1]"
      ],
      "metadata": {
        "colab": {
          "base_uri": "https://localhost:8080/"
        },
        "id": "QjRW-XkOrHnd",
        "outputId": "2b30fbfa-f055-41fd-c8c4-5073471e9f7e"
      },
      "execution_count": null,
      "outputs": [
        {
          "output_type": "execute_result",
          "data": {
            "text/plain": [
              "{'age': '27', 'name': 'John', 'sex': 'Male'}"
            ]
          },
          "metadata": {},
          "execution_count": 38
        }
      ]
    },
    {
      "cell_type": "code",
      "source": [
        "people[2]"
      ],
      "metadata": {
        "colab": {
          "base_uri": "https://localhost:8080/"
        },
        "id": "_F9ZWUSUr0vA",
        "outputId": "99e6cbfc-a763-4b88-9b47-d849dc4b98f2"
      },
      "execution_count": null,
      "outputs": [
        {
          "output_type": "execute_result",
          "data": {
            "text/plain": [
              "{'age': '22', 'name': 'Marie', 'sex': 'Female'}"
            ]
          },
          "metadata": {},
          "execution_count": 39
        }
      ]
    },
    {
      "cell_type": "code",
      "source": [
        "people[1]={'name': 'John', 'age': '27', 'sex': 'Male'}\n",
        "people"
      ],
      "metadata": {
        "colab": {
          "base_uri": "https://localhost:8080/"
        },
        "id": "9npTOwIsr8vt",
        "outputId": "6fe6f89a-2887-4cf9-d074-a4ff6d11cdda"
      },
      "execution_count": null,
      "outputs": [
        {
          "output_type": "execute_result",
          "data": {
            "text/plain": [
              "{1: {'age': '27', 'name': 'John', 'sex': 'Male'},\n",
              " 2: {'age': '22', 'name': 'Marie', 'sex': 'Female'},\n",
              " 3: {'age': '18', 'name': 'vamsi', 'sex': 'Male'},\n",
              " 4: {'age': '12', 'name': 'jai', 'sex': 'Male'}}"
            ]
          },
          "metadata": {},
          "execution_count": 40
        }
      ]
    },
    {
      "cell_type": "markdown",
      "source": [
        "RENAMEING THE NAME"
      ],
      "metadata": {
        "id": "fFaqZQm7mgcF"
      }
    },
    {
      "cell_type": "code",
      "source": [
        "people[1][\"name\"]=\"Jonathan\"\n",
        "people"
      ],
      "metadata": {
        "colab": {
          "base_uri": "https://localhost:8080/"
        },
        "id": "VnFbP1npmjbF",
        "outputId": "55845f8d-41b5-4f24-e09b-7572b7e86f51"
      },
      "execution_count": null,
      "outputs": [
        {
          "output_type": "execute_result",
          "data": {
            "text/plain": [
              "{1: {'age': '27', 'name': 'Jonathan', 'sex': 'Male'},\n",
              " 2: {'age': '22', 'name': 'Marie', 'sex': 'Female'},\n",
              " 3: {'age': '18', 'name': 'vamsi', 'sex': 'Male'},\n",
              " 4: {'age': '12', 'name': 'jai', 'sex': 'Male'}}"
            ]
          },
          "metadata": {},
          "execution_count": 41
        }
      ]
    },
    {
      "cell_type": "code",
      "source": [
        ""
      ],
      "metadata": {
        "id": "02gKyIyYmoU1"
      },
      "execution_count": null,
      "outputs": []
    },
    {
      "cell_type": "markdown",
      "source": [
        "DELETE A PERSON FROM DICTIONARY"
      ],
      "metadata": {
        "id": "XYkbtQZlnAaM"
      }
    },
    {
      "cell_type": "code",
      "source": [
        "del people[2]\n",
        "people"
      ],
      "metadata": {
        "colab": {
          "base_uri": "https://localhost:8080/"
        },
        "id": "s6atzBQknGSV",
        "outputId": "583cb50a-80c2-4101-edc1-2ce250cd8797"
      },
      "execution_count": null,
      "outputs": [
        {
          "output_type": "execute_result",
          "data": {
            "text/plain": [
              "{1: {'age': '27', 'name': 'Jonathan', 'sex': 'Male'},\n",
              " 3: {'age': '18', 'name': 'vamsi', 'sex': 'Male'},\n",
              " 4: {'age': '12', 'name': 'jai', 'sex': 'Male'}}"
            ]
          },
          "metadata": {},
          "execution_count": 42
        }
      ]
    },
    {
      "cell_type": "code",
      "source": [
        "print(2 in people)"
      ],
      "metadata": {
        "colab": {
          "base_uri": "https://localhost:8080/"
        },
        "id": "P9VcKFZHqtmF",
        "outputId": "a2c98614-7d4e-41ad-e61d-3a6622246f6f"
      },
      "execution_count": null,
      "outputs": [
        {
          "output_type": "stream",
          "name": "stdout",
          "text": [
            "False\n"
          ]
        }
      ]
    },
    {
      "cell_type": "code",
      "source": [
        "for key in people:\n",
        "  print(key,people[key])\n",
        "  \n",
        "  "
      ],
      "metadata": {
        "colab": {
          "base_uri": "https://localhost:8080/"
        },
        "id": "U6lqbAeQq8jt",
        "outputId": "b94cb870-f7d2-4f68-b8ad-85e03af87c5b"
      },
      "execution_count": null,
      "outputs": [
        {
          "output_type": "stream",
          "name": "stdout",
          "text": [
            "1 {'name': 'Jonathan', 'age': '27', 'sex': 'Male'}\n",
            "3 {'name': 'vamsi', 'age': '18', 'sex': 'Male'}\n",
            "4 {'name': 'jai', 'age': '12', 'sex': 'Male'}\n"
          ]
        }
      ]
    },
    {
      "cell_type": "code",
      "source": [
        ""
      ],
      "metadata": {
        "id": "amcpjNyarLsU"
      },
      "execution_count": null,
      "outputs": []
    },
    {
      "cell_type": "markdown",
      "source": [
        "part 2\n"
      ],
      "metadata": {
        "id": "e2ZX3CLmuSNj"
      }
    },
    {
      "cell_type": "code",
      "source": [
        "facebook={'Joe': 1500000, 'Sarah':2750000, 'Jack':560000, 'Mark' :1975, \"Shawn\":2200000}\n",
        "facebook"
      ],
      "metadata": {
        "colab": {
          "base_uri": "https://localhost:8080/"
        },
        "id": "W6gnxdwBuT_U",
        "outputId": "d5fd5e1a-8b4f-49c9-8d43-6767fa7858f1"
      },
      "execution_count": null,
      "outputs": [
        {
          "output_type": "execute_result",
          "data": {
            "text/plain": [
              "{'Jack': 560000,\n",
              " 'Joe': 1500000,\n",
              " 'Mark': 1975,\n",
              " 'Sarah': 2750000,\n",
              " 'Shawn': 2200000}"
            ]
          },
          "metadata": {},
          "execution_count": 45
        }
      ]
    },
    {
      "cell_type": "markdown",
      "source": [
        "created a didtionary"
      ],
      "metadata": {
        "id": "dnjkryzNveAk"
      }
    },
    {
      "cell_type": "code",
      "source": [
        "keymax=max(facebook,key=lambda x:facebook[x])\n",
        "keymax"
      ],
      "metadata": {
        "colab": {
          "base_uri": "https://localhost:8080/",
          "height": 35
        },
        "id": "znO-jNR-vhIL",
        "outputId": "b56d0735-33d5-4b8e-b5a2-6feee655d9c5"
      },
      "execution_count": null,
      "outputs": [
        {
          "output_type": "execute_result",
          "data": {
            "text/plain": [
              "'Sarah'"
            ],
            "application/vnd.google.colaboratory.intrinsic+json": {
              "type": "string"
            }
          },
          "metadata": {},
          "execution_count": 49
        }
      ]
    },
    {
      "cell_type": "markdown",
      "source": [
        "returned the key with maximum value"
      ],
      "metadata": {
        "id": "6JheVX--0Iyc"
      }
    },
    {
      "cell_type": "code",
      "source": [
        "print(keymax,'has the heighest sale')"
      ],
      "metadata": {
        "colab": {
          "base_uri": "https://localhost:8080/"
        },
        "id": "wzkJAgNgzYOL",
        "outputId": "1c2baf30-4bab-43a0-cdc0-db6f5d1ca964"
      },
      "execution_count": null,
      "outputs": [
        {
          "output_type": "stream",
          "name": "stdout",
          "text": [
            "Sarah has the heighest sale\n"
          ]
        }
      ]
    },
    {
      "cell_type": "markdown",
      "source": [
        ""
      ],
      "metadata": {
        "id": "0s53tl-6xMh7"
      }
    },
    {
      "cell_type": "markdown",
      "source": [
        ""
      ],
      "metadata": {
        "id": "VzMQX3tm0Qh8"
      }
    }
  ]
}