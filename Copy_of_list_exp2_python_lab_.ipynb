{
  "nbformat": 4,
  "nbformat_minor": 0,
  "metadata": {
    "colab": {
      "name": "Copy of list exp2 python lab .ipynb",
      "provenance": [],
      "authorship_tag": "ABX9TyO5LdP8oDuVZfSp7hgzYeB5",
      "include_colab_link": true
    },
    "kernelspec": {
      "name": "python3",
      "display_name": "Python 3"
    },
    "language_info": {
      "name": "python"
    }
  },
  "cells": [
    {
      "cell_type": "markdown",
      "metadata": {
        "id": "view-in-github",
        "colab_type": "text"
      },
      "source": [
        "<a href=\"https://colab.research.google.com/github/Kakani2003/Kakani2003/blob/main/Copy_of_list_exp2_python_lab_.ipynb\" target=\"_parent\"><img src=\"https://colab.research.google.com/assets/colab-badge.svg\" alt=\"Open In Colab\"/></a>"
      ]
    },
    {
      "cell_type": "code",
      "execution_count": null,
      "metadata": {
        "id": "WK2m5q9gYJ5G"
      },
      "outputs": [],
      "source": [
        "x=['January', 'February', 'March', 'April', 'May', 'June', 'July',  'August', 'september', 'October', 'November', 'December']\n"
      ]
    },
    {
      "cell_type": "code",
      "source": [
        "x[-1]"
      ],
      "metadata": {
        "colab": {
          "base_uri": "https://localhost:8080/",
          "height": 35
        },
        "id": "07PTGdm4ZMDV",
        "outputId": "b3a061c3-0800-461d-a5ca-735f7a83363b"
      },
      "execution_count": null,
      "outputs": [
        {
          "output_type": "execute_result",
          "data": {
            "text/plain": [
              "'December'"
            ],
            "application/vnd.google.colaboratory.intrinsic+json": {
              "type": "string"
            }
          },
          "metadata": {},
          "execution_count": 17
        }
      ]
    },
    {
      "cell_type": "code",
      "source": [
        "len(x)"
      ],
      "metadata": {
        "colab": {
          "base_uri": "https://localhost:8080/"
        },
        "id": "Sq4FDbpsb6yU",
        "outputId": "46952f02-e7e9-48be-d65f-a849fec71cbd"
      },
      "execution_count": null,
      "outputs": [
        {
          "output_type": "execute_result",
          "data": {
            "text/plain": [
              "12"
            ]
          },
          "metadata": {},
          "execution_count": 18
        }
      ]
    },
    {
      "cell_type": "code",
      "source": [
        "x[1:2]"
      ],
      "metadata": {
        "colab": {
          "base_uri": "https://localhost:8080/"
        },
        "id": "OXV89U95cc8D",
        "outputId": "20ef5d74-076e-4f4e-d66d-709eba44a367"
      },
      "execution_count": null,
      "outputs": [
        {
          "output_type": "execute_result",
          "data": {
            "text/plain": [
              "['February']"
            ]
          },
          "metadata": {},
          "execution_count": 19
        }
      ]
    },
    {
      "cell_type": "code",
      "source": [
        "x.sort()\n",
        "x"
      ],
      "metadata": {
        "colab": {
          "base_uri": "https://localhost:8080/"
        },
        "id": "jUCprBLud7wr",
        "outputId": "f93e5e11-191a-4c5a-b9da-23c4f08cb2df"
      },
      "execution_count": null,
      "outputs": [
        {
          "output_type": "execute_result",
          "data": {
            "text/plain": [
              "['April',\n",
              " 'August',\n",
              " 'December',\n",
              " 'February',\n",
              " 'January',\n",
              " 'July',\n",
              " 'June',\n",
              " 'March',\n",
              " 'May',\n",
              " 'November',\n",
              " 'October',\n",
              " 'september']"
            ]
          },
          "metadata": {},
          "execution_count": 20
        }
      ]
    },
    {
      "cell_type": "code",
      "source": [
        "x.sort(reverse=True)\n",
        "x"
      ],
      "metadata": {
        "colab": {
          "base_uri": "https://localhost:8080/"
        },
        "id": "pTDgBVbFe9cc",
        "outputId": "4c896730-2a7f-4c5d-b34f-7e6fa601648c"
      },
      "execution_count": null,
      "outputs": [
        {
          "output_type": "execute_result",
          "data": {
            "text/plain": [
              "['september',\n",
              " 'October',\n",
              " 'November',\n",
              " 'May',\n",
              " 'March',\n",
              " 'June',\n",
              " 'July',\n",
              " 'January',\n",
              " 'February',\n",
              " 'December',\n",
              " 'August',\n",
              " 'April']"
            ]
          },
          "metadata": {},
          "execution_count": 21
        }
      ]
    },
    {
      "cell_type": "code",
      "source": [
        "x+[\"!\"]"
      ],
      "metadata": {
        "colab": {
          "base_uri": "https://localhost:8080/"
        },
        "id": "dAvcLp9efkth",
        "outputId": "b43c6d27-9f87-4976-e25a-4d622d7fc46f"
      },
      "execution_count": null,
      "outputs": [
        {
          "output_type": "execute_result",
          "data": {
            "text/plain": [
              "['september',\n",
              " 'October',\n",
              " 'November',\n",
              " 'May',\n",
              " 'March',\n",
              " 'June',\n",
              " 'July',\n",
              " 'January',\n",
              " 'February',\n",
              " 'December',\n",
              " 'August',\n",
              " 'April',\n",
              " '!']"
            ]
          },
          "metadata": {},
          "execution_count": 22
        }
      ]
    },
    {
      "cell_type": "code",
      "source": [
        "x.remove(\"January\")\n",
        "x"
      ],
      "metadata": {
        "colab": {
          "base_uri": "https://localhost:8080/"
        },
        "id": "WB9sQFExgiOK",
        "outputId": "6917f429-f76d-431b-c862-1465301b7ec9"
      },
      "execution_count": null,
      "outputs": [
        {
          "output_type": "execute_result",
          "data": {
            "text/plain": [
              "['september',\n",
              " 'October',\n",
              " 'November',\n",
              " 'May',\n",
              " 'March',\n",
              " 'June',\n",
              " 'July',\n",
              " 'February',\n",
              " 'December',\n",
              " 'August',\n",
              " 'April']"
            ]
          },
          "metadata": {},
          "execution_count": 23
        }
      ]
    },
    {
      "cell_type": "code",
      "source": [
        "x.pop(3)\n",
        "x"
      ],
      "metadata": {
        "colab": {
          "base_uri": "https://localhost:8080/"
        },
        "id": "PHoJmxE0gsZS",
        "outputId": "8713bfbb-7677-4cda-c871-f558cc2426c2"
      },
      "execution_count": null,
      "outputs": [
        {
          "output_type": "execute_result",
          "data": {
            "text/plain": [
              "['september',\n",
              " 'October',\n",
              " 'November',\n",
              " 'March',\n",
              " 'June',\n",
              " 'July',\n",
              " 'February',\n",
              " 'December',\n",
              " 'August',\n",
              " 'April']"
            ]
          },
          "metadata": {},
          "execution_count": 24
        }
      ]
    },
    {
      "cell_type": "code",
      "source": [
        "x=['January', 'February', 'March', 'April', 'May', 'June', 'July',  'August', 'september', 'October', 'November', 'December']\n",
        "x"
      ],
      "metadata": {
        "colab": {
          "base_uri": "https://localhost:8080/"
        },
        "id": "Fg4hKkUzip-o",
        "outputId": "7f26bb09-4dc5-404b-e991-a3ee27e0bc29"
      },
      "execution_count": null,
      "outputs": [
        {
          "output_type": "execute_result",
          "data": {
            "text/plain": [
              "['January',\n",
              " 'February',\n",
              " 'March',\n",
              " 'April',\n",
              " 'May',\n",
              " 'June',\n",
              " 'July',\n",
              " 'August',\n",
              " 'september',\n",
              " 'October',\n",
              " 'November',\n",
              " 'December']"
            ]
          },
          "metadata": {},
          "execution_count": 25
        }
      ]
    },
    {
      "cell_type": "markdown",
      "source": [
        "# question ***2***"
      ],
      "metadata": {
        "id": "DKE97cUIgedh"
      }
    },
    {
      "cell_type": "code",
      "source": [
        "values=[ 230 , 250 , 345 , 290 , 890 , 321 , 232 , 456 , 213 , 299 , 123 , 566 ]\n",
        "values"
      ],
      "metadata": {
        "id": "LPBK1P5wpRn3",
        "colab": {
          "base_uri": "https://localhost:8080/"
        },
        "outputId": "c889e45b-1ab0-4cdc-9c99-8f047d27635f"
      },
      "execution_count": null,
      "outputs": [
        {
          "output_type": "execute_result",
          "data": {
            "text/plain": [
              "[230, 250, 345, 290, 890, 321, 232, 456, 213, 299, 123, 566]"
            ]
          },
          "metadata": {},
          "execution_count": 26
        }
      ]
    },
    {
      "cell_type": "code",
      "source": [
        "len(values)"
      ],
      "metadata": {
        "colab": {
          "base_uri": "https://localhost:8080/"
        },
        "id": "hMOpJ8nCgbYJ",
        "outputId": "0ab09842-92e6-4125-ecc8-abf788308220"
      },
      "execution_count": null,
      "outputs": [
        {
          "output_type": "execute_result",
          "data": {
            "text/plain": [
              "12"
            ]
          },
          "metadata": {},
          "execution_count": 27
        }
      ]
    },
    {
      "cell_type": "code",
      "source": [
        "type(values)"
      ],
      "metadata": {
        "colab": {
          "base_uri": "https://localhost:8080/"
        },
        "id": "UiuHDSoQgk-y",
        "outputId": "c979fe47-10f1-4761-89e2-4c33744b2714"
      },
      "execution_count": null,
      "outputs": [
        {
          "output_type": "execute_result",
          "data": {
            "text/plain": [
              "list"
            ]
          },
          "metadata": {},
          "execution_count": 28
        }
      ]
    },
    {
      "cell_type": "markdown",
      "source": [
        "question 3"
      ],
      "metadata": {
        "id": "Lb8SXje_g8pf"
      }
    },
    {
      "cell_type": "code",
      "source": [
        "values[3]=302\n",
        "values"
      ],
      "metadata": {
        "colab": {
          "base_uri": "https://localhost:8080/"
        },
        "id": "NZK05kEmg29f",
        "outputId": "8d8262e8-be8e-41e3-fc58-f343d00892ca"
      },
      "execution_count": null,
      "outputs": [
        {
          "output_type": "execute_result",
          "data": {
            "text/plain": [
              "[230, 250, 345, 302, 890, 321, 232, 456, 213, 299, 123, 566]"
            ]
          },
          "metadata": {},
          "execution_count": 29
        }
      ]
    },
    {
      "cell_type": "code",
      "source": [
        "print(\"You spent $\",values[3],\" in \",x[3])"
      ],
      "metadata": {
        "colab": {
          "base_uri": "https://localhost:8080/"
        },
        "id": "4GI0hpjEhEQH",
        "outputId": "c39e07a7-b29d-432f-c316-7adde3e78766"
      },
      "execution_count": null,
      "outputs": [
        {
          "output_type": "stream",
          "name": "stdout",
          "text": [
            "You spent $ 302  in  April\n"
          ]
        }
      ]
    },
    {
      "cell_type": "markdown",
      "source": [
        "question 4"
      ],
      "metadata": {
        "id": "Y_9814T9hTWn"
      }
    },
    {
      "cell_type": "code",
      "source": [
        "total=0\n",
        "for i in values:\n",
        "  total=total+i\n",
        "print(total)"
      ],
      "metadata": {
        "colab": {
          "base_uri": "https://localhost:8080/"
        },
        "id": "G3gCzw0ChVfv",
        "outputId": "a8413ba4-963c-49c8-cbed-59f2f7a5ab2e"
      },
      "execution_count": null,
      "outputs": [
        {
          "output_type": "stream",
          "name": "stdout",
          "text": [
            "4227\n"
          ]
        }
      ]
    },
    {
      "cell_type": "code",
      "source": [
        "values.append(total)\n",
        "values"
      ],
      "metadata": {
        "colab": {
          "base_uri": "https://localhost:8080/"
        },
        "id": "j99gNc-ghazP",
        "outputId": "6308247b-d778-4c3a-e292-d57796404249"
      },
      "execution_count": null,
      "outputs": [
        {
          "output_type": "execute_result",
          "data": {
            "text/plain": [
              "[230, 250, 345, 302, 890, 321, 232, 456, 213, 299, 123, 566, 4227]"
            ]
          },
          "metadata": {},
          "execution_count": 32
        }
      ]
    },
    {
      "cell_type": "code",
      "source": [
        "print(\"The total annual spend on consumable goods was $\",values[12])"
      ],
      "metadata": {
        "colab": {
          "base_uri": "https://localhost:8080/"
        },
        "id": "TDtXbvp-hgtw",
        "outputId": "bd1fb28f-053b-4819-b508-656f8088509d"
      },
      "execution_count": null,
      "outputs": [
        {
          "output_type": "stream",
          "name": "stdout",
          "text": [
            "The total annual spend on consumable goods was $ 4227\n"
          ]
        }
      ]
    }
  ]
}