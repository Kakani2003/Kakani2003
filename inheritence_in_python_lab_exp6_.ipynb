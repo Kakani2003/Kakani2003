{
  "nbformat": 4,
  "nbformat_minor": 0,
  "metadata": {
    "colab": {
      "name": "inheritence in python lab exp6 .ipynb",
      "provenance": [],
      "collapsed_sections": [],
      "authorship_tag": "ABX9TyMJc63bVcQAnMGpLDk5HvyY",
      "include_colab_link": true
    },
    "kernelspec": {
      "name": "python3",
      "display_name": "Python 3"
    },
    "language_info": {
      "name": "python"
    }
  },
  "cells": [
    {
      "cell_type": "markdown",
      "metadata": {
        "id": "view-in-github",
        "colab_type": "text"
      },
      "source": [
        "<a href=\"https://colab.research.google.com/github/Kakani2003/Kakani2003/blob/main/inheritence_in_python_lab_exp6_.ipynb\" target=\"_parent\"><img src=\"https://colab.research.google.com/assets/colab-badge.svg\" alt=\"Open In Colab\"/></a>"
      ]
    },
    {
      "cell_type": "markdown",
      "source": [
        "\n",
        "Exp:6 Inheritance in Python\n",
        "\n",
        "Apply inheritance types for the below mentioned math’s:\n",
        "\n",
        "Question - 1 Area of Plane Shapes\n",
        "\n",
        "TRIANGLE\n",
        "Single Inheritance\n",
        "\n",
        "\n"
      ],
      "metadata": {
        "id": "3ceF71b1ytXu"
      }
    },
    {
      "cell_type": "code",
      "execution_count": null,
      "metadata": {
        "colab": {
          "base_uri": "https://localhost:8080/"
        },
        "id": "7TMdClknygv6",
        "outputId": "d59ba9e9-19b0-4e8f-abc6-9fb2eaeae87e"
      },
      "outputs": [
        {
          "output_type": "stream",
          "name": "stdout",
          "text": [
            "Enter the base of the triangle : 5\n",
            "Enter the height of the triangle: 10\n",
            "The area of the triangle is : 25.0\n"
          ]
        }
      ],
      "source": [
        "class A:\n",
        "\n",
        "  def __init__(self):\n",
        "    self.b=int(input(\"Enter the base of the triangle : \"))\n",
        "    self.h=int(input(\"Enter the height of the triangle: \"))\n",
        "\n",
        "class B (A):\n",
        "\n",
        "    def area(self):\n",
        "      self.c= 1/2 * self.b * self.h\n",
        "      print(\"The area of the triangle is :\", self.c)\n",
        "\n",
        "obj = B()\n",
        "obj.area()"
      ]
    },
    {
      "cell_type": "markdown",
      "source": [
        "Multilevel inheritance"
      ],
      "metadata": {
        "id": "Jrc3JX830b4Q"
      }
    },
    {
      "cell_type": "code",
      "source": [
        "class First:\n",
        "    def input(self):\n",
        "        self.b=int(input(\"Enter the base of the triangle : \"))\n",
        "        self.h=int(input(\"Enter the height of the triangle: \"))\n",
        "\n",
        "class Second(First):\n",
        "    def area(self):\n",
        "      self.c= 1/2 * self.b * self.h\n",
        "\n",
        "class Third(Second):\n",
        "    def result(self):\n",
        "        print(\"The area of the triangle is :\", self.c)\n",
        "\n",
        "\n",
        "obj = Third()\n",
        "obj.input()\n",
        "obj.area()\n",
        "obj.result()"
      ],
      "metadata": {
        "colab": {
          "base_uri": "https://localhost:8080/"
        },
        "id": "z6NJTyRw0g-K",
        "outputId": "b8fca41a-6988-410b-e107-ee9ca064097e"
      },
      "execution_count": null,
      "outputs": [
        {
          "output_type": "stream",
          "name": "stdout",
          "text": [
            "Enter the base of the triangle : 19\n",
            "Enter the height of the triangle: 11\n",
            "The area of the triangle is : 104.5\n"
          ]
        }
      ]
    },
    {
      "cell_type": "markdown",
      "source": [
        "Hierarchical inheritance"
      ],
      "metadata": {
        "id": "fOY2Ye9C0vFj"
      }
    },
    {
      "cell_type": "code",
      "source": [
        "class First:\n",
        "    def __init__(self):\n",
        "        self.b = 5\n",
        "        self.h = 9\n",
        "\n",
        "\n",
        "class Second(First):\n",
        "    def area(self):\n",
        "      self.c= 1/2 * self.b * self.h\n",
        "      print(\"Area of triangle :\", self.c)\n",
        "\n",
        "\n",
        "obj = Second()\n",
        "obj.area()"
      ],
      "metadata": {
        "colab": {
          "base_uri": "https://localhost:8080/"
        },
        "id": "P9n0EmLy0vZP",
        "outputId": "98da5d69-b05d-4b4c-abf7-8584f2757808"
      },
      "execution_count": null,
      "outputs": [
        {
          "output_type": "stream",
          "name": "stdout",
          "text": [
            "Area of triangle : 22.5\n"
          ]
        }
      ]
    },
    {
      "cell_type": "markdown",
      "source": [
        "SQUARE \n",
        "\n",
        "SINGLE INHERITENCE"
      ],
      "metadata": {
        "id": "EzQN8eqL1CAv"
      }
    },
    {
      "cell_type": "code",
      "source": [
        "class A:\n",
        "\n",
        "  def __init__(self):\n",
        "    self.a=int(input(\"Enter the lenght of the square : \"))\n",
        "    \n",
        "\n",
        "class B (A):\n",
        "\n",
        "    def area(self):\n",
        "      self.c= self.a ** 2\n",
        "      print(\"The area of square :\", self.c)\n",
        "\n",
        "obj = B()\n",
        "obj.area()"
      ],
      "metadata": {
        "colab": {
          "base_uri": "https://localhost:8080/"
        },
        "id": "SXz4s0EI1GwQ",
        "outputId": "27512210-d0a1-41f1-ddcb-4266328e60b0"
      },
      "execution_count": null,
      "outputs": [
        {
          "output_type": "stream",
          "name": "stdout",
          "text": [
            "Enter the lenght of the square : 10\n",
            "The area of square : 100\n"
          ]
        }
      ]
    },
    {
      "cell_type": "markdown",
      "source": [
        "MULTI INHERITENCE"
      ],
      "metadata": {
        "id": "cW0j5JBc1Psz"
      }
    },
    {
      "cell_type": "code",
      "source": [
        "class First:\n",
        "    def input(self):\n",
        "        self.a=int(input(\"Enter the lenght of the square : \"))\n",
        "\n",
        "class Second(First):\n",
        "    def area(self):\n",
        "        self.c= self.a ** 2\n",
        "\n",
        "class Third(Second):\n",
        "    def result(self):\n",
        "       print(\"The area of square :\", self.c)\n",
        "\n",
        "\n",
        "obj = Third()\n",
        "obj.input()\n",
        "obj.area()\n",
        "obj.result()"
      ],
      "metadata": {
        "colab": {
          "base_uri": "https://localhost:8080/"
        },
        "id": "8Gr3qZFE1QFO",
        "outputId": "c03ee10f-7fe0-4931-f1f7-8f672b3fa56c"
      },
      "execution_count": null,
      "outputs": [
        {
          "output_type": "stream",
          "name": "stdout",
          "text": [
            "Enter the lenght of the square : 225\n",
            "The area of square : 50625\n"
          ]
        }
      ]
    },
    {
      "cell_type": "markdown",
      "source": [
        "Hierarchical inheritance"
      ],
      "metadata": {
        "id": "okv35CQ21YgV"
      }
    },
    {
      "cell_type": "code",
      "source": [
        "class First:\n",
        "    def __init__(self):\n",
        "        self.a = 20\n",
        "\n",
        "class Second(First):\n",
        "    def area(self):\n",
        "      self.c= self.a ** 2\n",
        "      print(\"The area of square :\", self.c)\n",
        "\n",
        "obj = Second()\n",
        "obj.area()"
      ],
      "metadata": {
        "colab": {
          "base_uri": "https://localhost:8080/"
        },
        "id": "ALgfHcDW1Yyb",
        "outputId": "122d20b7-0bf9-4bd4-c0fc-a793bd74fea9"
      },
      "execution_count": null,
      "outputs": [
        {
          "output_type": "stream",
          "name": "stdout",
          "text": [
            "The area of square : 400\n"
          ]
        }
      ]
    },
    {
      "cell_type": "markdown",
      "source": [
        "RECTANGLE\n",
        "Single Inheritance "
      ],
      "metadata": {
        "id": "0QrwLfxR1fkq"
      }
    },
    {
      "cell_type": "code",
      "source": [
        "class A:\n",
        "\n",
        "  def __init__(self):\n",
        "    self.W=int(input(\"Enter the width of the rectangle : \"))\n",
        "    self.h=int(input(\"Enter the height of the rectangle: \"))\n",
        "\n",
        "class B (A):\n",
        "\n",
        "    def area(self):\n",
        "      self.c=  self.W * self.h\n",
        "      print(\"The area of rectangle is :\", self.c)\n",
        "\n",
        "obj = B()\n",
        "obj.area()"
      ],
      "metadata": {
        "colab": {
          "base_uri": "https://localhost:8080/"
        },
        "id": "ysghekyy1f4n",
        "outputId": "06badc5a-caee-4492-e30b-65b69464c2a6"
      },
      "execution_count": null,
      "outputs": [
        {
          "output_type": "stream",
          "name": "stdout",
          "text": [
            "Enter the width of the rectangle : 12\n",
            "Enter the height of the rectangle: 14\n",
            "The area of rectangle is : 168\n"
          ]
        }
      ]
    },
    {
      "cell_type": "markdown",
      "source": [
        "Multilevel inheritance"
      ],
      "metadata": {
        "id": "yPIsz-ie1-Kj"
      }
    },
    {
      "cell_type": "code",
      "source": [
        "class First:\n",
        "    def input(self):\n",
        "      self.W=int(input(\"Enter the width of the rectangle : \"))\n",
        "      self.h=int(input(\"Enter the height of the rectangle: \"))\n",
        "\n",
        "class Second(First): \n",
        "    def area(self):\n",
        "      self.c=  self.W * self.h\n",
        "      \n",
        "class Third(Second):\n",
        "    def result(self):\n",
        "        print(\"The area of rectangle is :\", self.c)\n",
        "\n",
        "\n",
        "obj = Third()\n",
        "obj.input()\n",
        "obj.area()\n",
        "obj.result()"
      ],
      "metadata": {
        "colab": {
          "base_uri": "https://localhost:8080/"
        },
        "id": "rhYUcu-_1-cw",
        "outputId": "32bd46a9-de22-44de-bc6c-042a79bd5dea"
      },
      "execution_count": null,
      "outputs": [
        {
          "output_type": "stream",
          "name": "stdout",
          "text": [
            "Enter the width of the rectangle : 25\n",
            "Enter the height of the rectangle: 25\n",
            "The area of rectangle is : 625\n"
          ]
        }
      ]
    },
    {
      "cell_type": "markdown",
      "source": [
        "Hierarchical inheritance"
      ],
      "metadata": {
        "id": "FMliJi5V2Rvq"
      }
    },
    {
      "cell_type": "code",
      "source": [
        "class First:\n",
        "    def __init__(self):\n",
        "        self.w = 4\n",
        "        self.h = 4\n",
        "class Second(First):\n",
        "    def area(self):\n",
        "      self.c=  self.w * self.h\n",
        "      print(\"Area of the rectangle :\", self.c)\n",
        "\n",
        "obj = Second()\n",
        "obj.area()"
      ],
      "metadata": {
        "colab": {
          "base_uri": "https://localhost:8080/"
        },
        "id": "hqQOCBoS2R_G",
        "outputId": "6c812f2c-ac6a-4f55-a02c-4c859eaa9dc2"
      },
      "execution_count": null,
      "outputs": [
        {
          "output_type": "stream",
          "name": "stdout",
          "text": [
            "Area of the rectangle : 16\n"
          ]
        }
      ]
    },
    {
      "cell_type": "markdown",
      "source": [
        "Parallelogram\n",
        "Single Inheritance\n",
        "\n"
      ],
      "metadata": {
        "id": "OkzygmZS2g_g"
      }
    },
    {
      "cell_type": "code",
      "source": [
        "class A:\n",
        "\n",
        "  def __init__(self):\n",
        "   self.b=int(input(\"Enter the base of the Parallelogram : \"))\n",
        "   self.w=int(input(\"Enter the width of the Parallelogram : \"))\n",
        "\n",
        "class B (A):\n",
        "   \n",
        "     def area(self):\n",
        "      self.c=  self.b * self.w\n",
        "      print(\"The area of Parallelogram is :\", self.c)\n",
        "\n",
        "obj = B()\n",
        "obj.area()1"
      ],
      "metadata": {
        "colab": {
          "base_uri": "https://localhost:8080/"
        },
        "id": "ERxThMc22hN4",
        "outputId": "896f8474-9388-4b51-a6c8-35316a1b7def"
      },
      "execution_count": null,
      "outputs": [
        {
          "output_type": "stream",
          "name": "stdout",
          "text": [
            "Enter the base of the Parallelogram : 10\n",
            "Enter the width of the Parallelogram : 10\n",
            "The area of Parallelogram is : 100\n"
          ]
        }
      ]
    },
    {
      "cell_type": "markdown",
      "source": [
        "Multiple inheritance"
      ],
      "metadata": {
        "id": "VTkotCT4256D"
      }
    },
    {
      "cell_type": "code",
      "source": [
        "class First:\n",
        "    def input(self):\n",
        "      self.b=int(input(\"Enter the base of the Parallelogram : \"))\n",
        "      self.w=int(input(\"Enter the width of the Parallelogram : \"))\n",
        "\n",
        "\n",
        "class Second(First):\n",
        "     def area(self):\n",
        "      self.c =  self.b * self.w\n",
        "\n",
        "\n",
        "class Third(Second):\n",
        "    def result(self):\n",
        "        print(\"The area of Parallelogram is :\", self.c)\n",
        "\n",
        "\n",
        "obj = Third()\n",
        "obj.input()\n",
        "obj.area()\n",
        "obj.result()\n"
      ],
      "metadata": {
        "colab": {
          "base_uri": "https://localhost:8080/"
        },
        "id": "iMts7BOy26I0",
        "outputId": "679cdf8a-310d-4a37-b386-812f74e71fdf"
      },
      "execution_count": null,
      "outputs": [
        {
          "output_type": "stream",
          "name": "stdout",
          "text": [
            "Enter the base of the Parallelogram : 41\n",
            "Enter the width of the Parallelogram : 42\n",
            "The area of Parallelogram is : 1722\n"
          ]
        }
      ]
    },
    {
      "cell_type": "markdown",
      "source": [
        "Hierarchical inheritance"
      ],
      "metadata": {
        "id": "Te3bb3ia3H_E"
      }
    },
    {
      "cell_type": "code",
      "source": [
        "class First:\n",
        "    def __init__(self):\n",
        "        self.b = 20\n",
        "        self.w = 10\n",
        "\n",
        "\n",
        "class Second(First):\n",
        "     def area(self):\n",
        "      self.c =  self.b * self.w\n",
        "      print(\"The area of Parallelogram is :\", self.c)\n",
        "\n",
        "obj1 = Second()\n",
        "obj1.area()"
      ],
      "metadata": {
        "colab": {
          "base_uri": "https://localhost:8080/"
        },
        "id": "umAgDZoK3ISH",
        "outputId": "7c2f367d-a495-4579-dd42-fb9e6dad0295"
      },
      "execution_count": null,
      "outputs": [
        {
          "output_type": "stream",
          "name": "stdout",
          "text": [
            "The area of Parallelogram is : 200\n"
          ]
        }
      ]
    },
    {
      "cell_type": "markdown",
      "source": [
        "Trapezoid (US) Trapezium (UK)\n",
        "Single Inheritance"
      ],
      "metadata": {
        "id": "G0G3K-8J4Php"
      }
    },
    {
      "cell_type": "code",
      "source": [
        "class A:\n",
        "\n",
        "  def __init__(self):\n",
        "    self.a=int(input(\"Enter the length 'a' of the Trapezoid : \"))\n",
        "    self.b=int(input(\"Enter the length' b' of the Trapezoid : \"))\n",
        "    self.h=int(input(\"Enter the height of the Trapezoid : \"))\n",
        "\n",
        "class B (A):\n",
        "\n",
        "    def area(self):\n",
        "      self.c =  1/2 * ( self.a + self.b ) * self.h\n",
        "      print(\"The area of Trapezoid is :\", self.c)\n",
        "\n",
        "obj = B()\n",
        "obj.area()22\n"
      ],
      "metadata": {
        "colab": {
          "base_uri": "https://localhost:8080/"
        },
        "id": "unpTyYeB4P31",
        "outputId": "55cd808a-347b-4b4c-9f73-875f55ccb515"
      },
      "execution_count": null,
      "outputs": [
        {
          "output_type": "stream",
          "name": "stdout",
          "text": [
            "Enter the length 'a' of the Trapezoid : 45\n",
            "Enter the length' b' of the Trapezoid : 58\n",
            "Enter the height of the Trapezoid : 25\n",
            "The area of Trapezoid is : 1287.5\n"
          ]
        }
      ]
    },
    {
      "cell_type": "markdown",
      "source": [
        "Multilevel inheritance"
      ],
      "metadata": {
        "id": "37g6qUjr4d5b"
      }
    },
    {
      "cell_type": "code",
      "source": [
        "class First:\n",
        "    def __init__(self):\n",
        "      self.a=int(input(\"Enter the length 'a' of the Trapezoid : \"))\n",
        "      self.b=int(input(\"Enter the length' b' of the Trapezoid : \"))\n",
        "      self.h=int(input(\"Enter the height of the Trapezoid : \"))\n",
        "\n",
        "class Second(First):\n",
        "    def area(self):\n",
        "      self.c =  1/2 * ( self.a + self.b ) * self.h\n",
        "      print(\"The area of Trapezoid is :\", self.c)\n",
        "\n",
        "obj = Second()\n",
        "obj.area()"
      ],
      "metadata": {
        "colab": {
          "base_uri": "https://localhost:8080/"
        },
        "id": "joSqIpVi4ePF",
        "outputId": "ef9d0f8b-6e1d-4877-aa94-b206fd19a187"
      },
      "execution_count": null,
      "outputs": [
        {
          "output_type": "stream",
          "name": "stdout",
          "text": [
            "Enter the length 'a' of the Trapezoid : 12\n",
            "Enter the length' b' of the Trapezoid : 12\n",
            "Enter the height of the Trapezoid : 12\n",
            "The area of Trapezoid is : 144.0\n"
          ]
        }
      ]
    },
    {
      "cell_type": "markdown",
      "source": [
        "Hierarchical inheritance"
      ],
      "metadata": {
        "id": "eL52OwCqfxzJ"
      }
    },
    {
      "cell_type": "code",
      "source": [
        "class First:\n",
        "    def __init__(self):\n",
        "        self.a = 4\n",
        "        self.b = 2\n",
        "        self.h = 5\n",
        "\n",
        "class Second(First):\n",
        "    def area(self):\n",
        "      self.c =  1/2 * ( self.a + self.b ) * self.h\n",
        "      print(\"The area of Trapezoid is :\", self.c)\n",
        "\n",
        "obj1 = Second()\n",
        "obj1.area()"
      ],
      "metadata": {
        "colab": {
          "base_uri": "https://localhost:8080/"
        },
        "id": "fJco70Qkfyc0",
        "outputId": "b750c105-4964-4322-991f-3f8705a24af8"
      },
      "execution_count": null,
      "outputs": [
        {
          "output_type": "stream",
          "name": "stdout",
          "text": [
            "The area of Trapezoid is : 15.0\n"
          ]
        }
      ]
    },
    {
      "cell_type": "markdown",
      "source": [
        "Circle\n",
        "Single Inheritance"
      ],
      "metadata": {
        "id": "TlBe4Z8lhwq-"
      }
    },
    {
      "cell_type": "code",
      "source": [
        "import math\n",
        "class A:\n",
        "\n",
        "  def __init__(self):\n",
        "    self.r=int(input(\"Enter the radius of the circle : \"))\n",
        "    \n",
        "class B (A):\n",
        "\n",
        "    def area(self):\n",
        "      self.c = math.pi * (self.r ** 2)\n",
        "      print(\"The area of circle :\", self.c)\n",
        "\n",
        "obj = B()\n",
        "obj.area()"
      ],
      "metadata": {
        "colab": {
          "base_uri": "https://localhost:8080/"
        },
        "id": "l2sCoIiBhw9E",
        "outputId": "444f3e0a-0db9-4e49-8ed3-4f2c3edf18c1"
      },
      "execution_count": null,
      "outputs": [
        {
          "output_type": "stream",
          "name": "stdout",
          "text": [
            "Enter the radius of the circle : 22\n",
            "The area of circle : 1520.53084433746\n"
          ]
        }
      ]
    },
    {
      "cell_type": "markdown",
      "source": [
        "Multilevel inheritance"
      ],
      "metadata": {
        "id": "tMAVguUGj8Mw"
      }
    },
    {
      "cell_type": "code",
      "source": [
        "class First:\n",
        "    def __init__(self):\n",
        "      self.r=int(input(\"Enter the radius of the circle : \"))\n",
        "\n",
        "class Second(First):\n",
        "    def area(self):\n",
        "      self.c = math.pi * (self.r ** 2)\n",
        "      print(\"The area of circle :\", self.c)\n",
        "\n",
        "obj = Second()\n",
        "obj.area()"
      ],
      "metadata": {
        "colab": {
          "base_uri": "https://localhost:8080/"
        },
        "id": "3YYW32ZWkLMN",
        "outputId": "ed9e530f-4835-4b88-9fff-5ccf1f18731d"
      },
      "execution_count": null,
      "outputs": [
        {
          "output_type": "stream",
          "name": "stdout",
          "text": [
            "Enter the radius of the circle : 25\n",
            "The area of circle : 1963.4954084936207\n"
          ]
        }
      ]
    },
    {
      "cell_type": "markdown",
      "source": [
        "Hierarchical inheritance"
      ],
      "metadata": {
        "id": "kIrQrBxdkTQ_"
      }
    },
    {
      "cell_type": "code",
      "source": [
        "class First:\n",
        "    def __init__(self):\n",
        "        self.r = 5\n",
        "\n",
        "class Second(First):\n",
        "    def area(self):\n",
        "      self.c = math.pi * (self.r ** 2)\n",
        "      print(\"The area of circle :\", self.c)\n",
        "\n",
        "obj1 = Second()\n",
        "obj1.area()"
      ],
      "metadata": {
        "colab": {
          "base_uri": "https://localhost:8080/"
        },
        "id": "YtOBhJB7kThX",
        "outputId": "7526705d-95a8-448b-a54b-bdaaa88c6264"
      },
      "execution_count": null,
      "outputs": [
        {
          "output_type": "stream",
          "name": "stdout",
          "text": [
            "The area of circle : 78.53981633974483\n"
          ]
        }
      ]
    },
    {
      "cell_type": "markdown",
      "source": [
        "Ellipse\n",
        "Single Inheritance"
      ],
      "metadata": {
        "id": "zxdop4i_k0aL"
      }
    },
    {
      "cell_type": "code",
      "source": [
        "class A:\n",
        "\n",
        "  def __init__(self):\n",
        "    self.a=int(input(\"Enter the length 'a' of the ellipse: \"))\n",
        "    self.b=int(input(\"Enter the length' b' of the ellipse : \"))\n",
        "    \n",
        "\n",
        "class B (A):\n",
        "\n",
        "    def area(self):\n",
        "      self.c = math.pi * self.a * self.b\n",
        "      print(\"The area of ellipse :\", self.c)\n",
        "\n",
        "obj = B()\n",
        "obj.area()"
      ],
      "metadata": {
        "colab": {
          "base_uri": "https://localhost:8080/"
        },
        "id": "F0K3oAiak04X",
        "outputId": "b27aa899-92dc-4367-945c-f57c1694afec"
      },
      "execution_count": null,
      "outputs": [
        {
          "output_type": "stream",
          "name": "stdout",
          "text": [
            "Enter the length 'a' of the ellipse: 25\n",
            "Enter the length' b' of the ellipse : 58\n",
            "The area of ellipse : 4555.3093477052\n"
          ]
        }
      ]
    },
    {
      "cell_type": "markdown",
      "source": [
        "Multilevel inheritance"
      ],
      "metadata": {
        "id": "Aeo5KpQulCU7"
      }
    },
    {
      "cell_type": "code",
      "source": [
        "class First:\n",
        "    def __init__(self):\n",
        "      self.a=int(input(\"Enter the length 'a' of the ellipse: \"))\n",
        "      self.b=int(input(\"Enter the length' b' of the ellipse : \"))\n",
        "\n",
        "class Second(First):\n",
        "    def area(self):\n",
        "      self.c = math.pi * self.a * self.b\n",
        "      print(\"The area of ellipse :\", self.c)\n",
        "\n",
        "obj = Second()\n",
        "obj.area()"
      ],
      "metadata": {
        "colab": {
          "base_uri": "https://localhost:8080/"
        },
        "id": "ZYzqwRhJlClc",
        "outputId": "0dc8219f-a537-4b69-d1b7-b978c3327a2a"
      },
      "execution_count": null,
      "outputs": [
        {
          "output_type": "stream",
          "name": "stdout",
          "text": [
            "Enter the length 'a' of the ellipse: 88\n",
            "Enter the length' b' of the ellipse : 100\n",
            "The area of ellipse : 27646.015351590177\n"
          ]
        }
      ]
    },
    {
      "cell_type": "markdown",
      "source": [
        "Hierarchical inheritance**"
      ],
      "metadata": {
        "id": "hNuVaLk6lmK3"
      }
    },
    {
      "cell_type": "code",
      "source": [
        "class First:\n",
        "    def __init__(self):\n",
        "        self.a = 5\n",
        "        self.b = 5\n",
        "\n",
        "class Second(First):\n",
        "     def area(self):\n",
        "      self.c = math.pi * self.a * self.b\n",
        "      print(\"The area of ellipse :\", self.c)\n",
        "\n",
        "obj1 = Second()\n",
        "obj1.area()"
      ],
      "metadata": {
        "colab": {
          "base_uri": "https://localhost:8080/"
        },
        "id": "BShauSfMlmeE",
        "outputId": "f8352ee8-f8e7-4fd2-e014-6d1552d7113e"
      },
      "execution_count": null,
      "outputs": [
        {
          "output_type": "stream",
          "name": "stdout",
          "text": [
            "The area of ellipse : 78.53981633974483\n"
          ]
        }
      ]
    },
    {
      "cell_type": "markdown",
      "source": [
        "Sector\n",
        "Single Inheritance"
      ],
      "metadata": {
        "id": "5gKc0oFNl400"
      }
    },
    {
      "cell_type": "code",
      "source": [
        "import numpy\n",
        "class A:\n",
        "\n",
        "  def __init__(self):\n",
        "    self.r = int(input(\"Enter the radius of the sector : \"))\n",
        "    self.angle =float(input(\"Enter the angle of the sector : \"))\n",
        "    \n",
        "\n",
        "class B (A):\n",
        "\n",
        "    def area(self):\n",
        "      self.c = ( math.pi* self.r**2 ) * (self.angle/360)\n",
        "      print(\"The area of sector :\", self.c)\n",
        "\n",
        "obj = B()\n",
        "obj.area()"
      ],
      "metadata": {
        "colab": {
          "base_uri": "https://localhost:8080/"
        },
        "id": "WdnEaE4Rl5HX",
        "outputId": "29b48315-61b6-4edc-f4a1-225be950c5bd"
      },
      "execution_count": null,
      "outputs": [
        {
          "output_type": "stream",
          "name": "stdout",
          "text": [
            "Enter the radius of the sector : 11\n",
            "Enter the angle of the sector : 11\n",
            "The area of sector : 11.615166172022263\n"
          ]
        }
      ]
    },
    {
      "cell_type": "markdown",
      "source": [
        "**bold text**Hierarchical inheritance"
      ],
      "metadata": {
        "id": "z4r7tDdemTje"
      }
    },
    {
      "cell_type": "code",
      "source": [
        "class First:\n",
        "    def __init__(self):\n",
        "        self.r = 10\n",
        "        self.angle = 10\n",
        "\n",
        "\n",
        "class Second(First):\n",
        "    def area(self):\n",
        "      self.c = ( math.pi* self.r**2 ) * (self.angle/360)\n",
        "      print(\"The area of sector :\", self.c)\n",
        "\n",
        "obj1 = Second()\n",
        "obj1.area()"
      ],
      "metadata": {
        "colab": {
          "base_uri": "https://localhost:8080/"
        },
        "id": "nDrE_z0GmTxY",
        "outputId": "1f03656d-d244-45dd-f0f6-efdc1ed5d568"
      },
      "execution_count": null,
      "outputs": [
        {
          "output_type": "stream",
          "name": "stdout",
          "text": [
            "The area of sector : 8.726646259971648\n"
          ]
        }
      ]
    }
  ]
}